{
 "cells": [
  {
   "cell_type": "code",
   "execution_count": 14,
   "metadata": {},
   "outputs": [
    {
     "name": "stdout",
     "output_type": "stream",
     "text": [
      "200\n"
     ]
    }
   ],
   "source": [
    "import requests \n",
    "\n",
    "endpoint = \"https://api.lyrics.ovh/v1/skank/te ver\"\n",
    "\n",
    "response = requests.get(endpoint)\n",
    "print(response.status_code)"
   ]
  },
  {
   "cell_type": "code",
   "execution_count": 15,
   "metadata": {},
   "outputs": [
    {
     "name": "stdout",
     "output_type": "stream",
     "text": [
      "Te ver e não te querer\n",
      "É improvável, é impossível\n",
      "Te ter e ter que esquecer\n",
      "É insuportável, é dor incrível \n",
      "Te ver e não te querer\n",
      "É improvável, é impossível\n",
      "\n",
      "Te ter e ter que esquecer\n",
      "\n",
      "É insuportável, é dor incrível \n",
      "\n",
      "\n",
      "\n",
      "É como mergulhar num rio e não se molhar\n",
      "\n",
      "É como não morrer de frio no gelo polar\n",
      "\n",
      "É ter o estômago vazio e não almoçar\n",
      "\n",
      "É ver o céu se abrir no estilo e não se animar\n",
      "\n",
      "\n",
      "\n",
      "Te ver e não te querer\n",
      "\n",
      "É improvável, é impossível\n",
      "\n",
      "Te ter e ter que esquecer\n",
      "\n",
      "É insuportável, é dor incrível\n",
      "\n",
      "\n",
      "\n",
      "É como esperar o prato e não salivar\n",
      "\n",
      "Sentir apertar o sapato e não descalçar\n",
      "\n",
      "É ver alguém feliz de fato sem alguém pra amar\n",
      "\n",
      "É como procurar no mato estrela do mar\n",
      "\n",
      "\n",
      "\n",
      "Te ver e não te querer\n",
      "\n",
      "É improvável, é impossível\n",
      "\n",
      "Te ter e ter que esquecer\n",
      "\n",
      "É insuportável, é dor incrível\n",
      "\n",
      "\n",
      "\n",
      "É como não sentir calor em Cuiabá\n",
      "\n",
      "Ou como no Arpoador não ver o mar\n",
      "\n",
      "É como não morrer de raiva com a política\n",
      "\n",
      "Ignorar que a tarde vai vadia e mítica\n",
      "\n",
      "É como ver televisão e não dormir\n",
      "\n",
      "Ver um bichano pelo chão e não sorrir\n",
      "\n",
      "É como não provar o néctar de um lindo amor\n",
      "\n",
      "Depois que o coração detecta a mais fina flor\n",
      "\n",
      "\n",
      "\n",
      "Te ver e não te querer\n",
      "\n",
      "É improvável, é impossível\n",
      "\n",
      "Te ter e ter que esquecer\n",
      "\n",
      "É insuportável, é dor incrível\n"
     ]
    }
   ],
   "source": [
    "print(response.json()[\"lyrics\"])\n"
   ]
  },
  {
   "cell_type": "code",
   "execution_count": null,
   "metadata": {},
   "outputs": [],
   "source": []
  }
 ],
 "metadata": {
  "kernelspec": {
   "display_name": ".venv",
   "language": "python",
   "name": "python3"
  },
  "language_info": {
   "codemirror_mode": {
    "name": "ipython",
    "version": 3
   },
   "file_extension": ".py",
   "mimetype": "text/x-python",
   "name": "python",
   "nbconvert_exporter": "python",
   "pygments_lexer": "ipython3",
   "version": "3.12.7"
  }
 },
 "nbformat": 4,
 "nbformat_minor": 2
}
